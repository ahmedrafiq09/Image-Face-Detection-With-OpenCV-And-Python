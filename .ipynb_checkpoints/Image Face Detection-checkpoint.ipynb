{
 "cells": [
  {
   "cell_type": "code",
   "execution_count": 2,
   "id": "8b9287f0",
   "metadata": {},
   "outputs": [
    {
     "name": "stdout",
     "output_type": "stream",
     "text": [
      "[[261  91 280 280]]\n",
      "\r\n",
      "No of faces = {len{faceCoord}}\n"
     ]
    }
   ],
   "source": [
    "import cv2 as cv\n",
    "\n",
    "data = cv.CascadeClassifier('haarcascade_frontalface_default.xml')\n",
    "image = cv.imread('pic01.jpg')\n",
    "\n",
    "gray = cv.cvtColor(image, cv.COLOR_BGR2GRAY)\n",
    "faceCoord = data.detectMultiScale(gray)\n",
    "print(faceCoord)\n",
    "print('\\r')\n",
    "print('No of faces = {len{faceCoord}}')\n",
    "for x,y,w,h, in faceCoord:\n",
    "    cv.rectangle(image,(x,y),(x+w,y+h),(0,255,0),2)\n",
    "    cv.imshow('Face Detection', image)\n",
    "    \n",
    "cv.waitKey()\n",
    "cv.destroyAllWindows()"
   ]
  },
  {
   "cell_type": "code",
   "execution_count": null,
   "id": "13708d45",
   "metadata": {},
   "outputs": [],
   "source": []
  }
 ],
 "metadata": {
  "kernelspec": {
   "display_name": "Python 3 (ipykernel)",
   "language": "python",
   "name": "python3"
  },
  "language_info": {
   "codemirror_mode": {
    "name": "ipython",
    "version": 3
   },
   "file_extension": ".py",
   "mimetype": "text/x-python",
   "name": "python",
   "nbconvert_exporter": "python",
   "pygments_lexer": "ipython3",
   "version": "3.11.4"
  }
 },
 "nbformat": 4,
 "nbformat_minor": 5
}
