{
 "cells": [
  {
   "cell_type": "code",
   "execution_count": 3,
   "id": "92dcd4e7",
   "metadata": {},
   "outputs": [
    {
     "name": "stdout",
     "output_type": "stream",
     "text": [
      "[[261  91 280 280]]\n",
      "\n",
      "No of faces = {len{faceCoord}}\n"
     ]
    }
   ],
   "source": [
    "# Import OpenCV \n",
    "import cv2 as cv\n",
    "\n",
    "#Use a Pre Trained Classifier which detects the co-ordinates of Face\n",
    "data = cv.CascadeClassifier('haarcascade_frontalface_default.xml')\n",
    "#Read The image\n",
    "image = cv.imread('pic01.jpg')\n",
    "\n",
    "#Convert The color into gray Scale\n",
    "gray = cv.cvtColor(image, cv.COLOR_BGR2GRAY)\n",
    "faceCoord = data.detectMultiScale(gray)\n",
    "print(faceCoord)\n",
    "print('\\r')\n",
    "print('No of faces = {len{faceCoord}}')\n",
    "#This will create the rectangle around the face \n",
    "for x,y,w,h, in faceCoord:\n",
    "    cv.rectangle(image,(x,y),(x+w,y+h),(0,255,0),2)\n",
    "    cv.imshow('Face Detection', image)\n",
    "\n",
    "#Waitkey To Destory The Window\n",
    "cv.waitKey()\n",
    "cv.destroyAllWindows()"
   ]
  },
  {
   "cell_type": "code",
   "execution_count": null,
   "id": "ed7e40f4",
   "metadata": {},
   "outputs": [],
   "source": []
  }
 ],
 "metadata": {
  "kernelspec": {
   "display_name": "Python 3 (ipykernel)",
   "language": "python",
   "name": "python3"
  },
  "language_info": {
   "codemirror_mode": {
    "name": "ipython",
    "version": 3
   },
   "file_extension": ".py",
   "mimetype": "text/x-python",
   "name": "python",
   "nbconvert_exporter": "python",
   "pygments_lexer": "ipython3",
   "version": "3.11.4"
  }
 },
 "nbformat": 4,
 "nbformat_minor": 5
}
